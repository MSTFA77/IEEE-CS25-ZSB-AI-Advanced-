{
 "cells": [
  {
   "cell_type": "markdown",
   "metadata": {},
   "source": [
    "**By:** *Ahmed Sharaf*"
   ]
  },
  {
   "cell_type": "markdown",
   "metadata": {},
   "source": [
    "In this notebook you will practice how to:\n",
    "1. Calculate the determinant of a 2x2 matrix with and without using numpy.linalg\n",
    "2. Calculate the determinant of a 3x3 matrix with and without using numpy.linalg\n",
    "3. Calculate the inverse of a 2x2 matrix using numpy.linalg\n",
    "4. Calculate the inverse of a 3x3 matrix using numpy.linalg\n",
    "5. Finding the rank of a matrix using numpy"
   ]
  },
  {
   "cell_type": "markdown",
   "metadata": {},
   "source": [
    "### Notice\n",
    "\n",
    "**Please Note:**  \n",
    "When writing code, make sure to place it in the designated area marked with `# code here`.  \n",
    "If there is a `pass` keyword in the code, please remove it and replace it with the required code."
   ]
  },
  {
   "cell_type": "markdown",
   "metadata": {},
   "source": [
    "# Calculating the determinant using numpy.linalg"
   ]
  },
  {
   "cell_type": "code",
   "execution_count": 14,
   "metadata": {},
   "outputs": [],
   "source": [
    "import numpy as np"
   ]
  },
  {
   "cell_type": "code",
   "execution_count": 16,
   "metadata": {},
   "outputs": [
    {
     "name": "stdout",
     "output_type": "stream",
     "text": [
      "[[1 2]\n",
      " [3 4]]\n"
     ]
    }
   ],
   "source": [
    "a2 = np.array([[1,2],[3,4]])\n",
    "print(a2)"
   ]
  },
  {
   "cell_type": "code",
   "execution_count": 18,
   "metadata": {},
   "outputs": [
    {
     "name": "stdout",
     "output_type": "stream",
     "text": [
      "[[ 1  1  2]\n",
      " [ 2  3  1]\n",
      " [ 3  4 -5]]\n"
     ]
    }
   ],
   "source": [
    "a3 = np.array([[1,1,2],[2,3,1],[3,4,-5]])\n",
    "print(a3)"
   ]
  },
  {
   "cell_type": "code",
   "execution_count": 20,
   "metadata": {},
   "outputs": [
    {
     "name": "stdout",
     "output_type": "stream",
     "text": [
      "Determinant of a2: -2.0000000000000004\n",
      "Determinant of a3: -7.999999999999998\n"
     ]
    }
   ],
   "source": [
    "## Determinate of a2, a3\n",
    "## Code Here\n",
    "dA2 = np.linalg.det(a2)\n",
    "dA3 = np.linalg.det(a3)\n",
    "print(\"Determinant of a2:\", dA2)\n",
    "print(\"Determinant of a3:\", dA3)"
   ]
  },
  {
   "cell_type": "markdown",
   "metadata": {},
   "source": [
    "# Calculating the determinant of a 2x2 matrixwithout using numpy"
   ]
  },
  {
   "cell_type": "code",
   "execution_count": 23,
   "metadata": {},
   "outputs": [
    {
     "name": "stdout",
     "output_type": "stream",
     "text": [
      "-2\n"
     ]
    }
   ],
   "source": [
    "def Det2(Mat):\n",
    "    ### Code Here\n",
    "    return Mat[0][0] * Mat[1][1] - Mat[0][1] * Mat[1][0]\n",
    "\n",
    "\n",
    "print(Det2(a2))"
   ]
  },
  {
   "cell_type": "markdown",
   "metadata": {},
   "source": [
    "# Calculating the determinant of a 3x3 matrixwithout using numpy\n",
    "\n",
    "One idea\n",
    "1. write a function to calculate the minor matrices. (hint, use slices)\n",
    "2. write a function to calculate the cofactors (this should call the first function, and the determinant function)\n",
    "3. the determinant function calls the function in step two and adds the results together.\n",
    "\n",
    "Another idea \n",
    "use recursion ==> code credit https://stackoverflow.com/questions/3819500/code-to-solve-determinant-using-python-without-using-scipy-linalg-det"
   ]
  },
  {
   "cell_type": "code",
   "execution_count": 26,
   "metadata": {},
   "outputs": [
    {
     "name": "stdout",
     "output_type": "stream",
     "text": [
      "[[ 1  2  3  4]\n",
      " [ 5  6  7  8]\n",
      " [ 9 10 11 12]]\n",
      "[[ 1  2  3  4]\n",
      " [ 9 10 11 12]]\n",
      "[[ 1  2  3]\n",
      " [ 5  6  7]\n",
      " [ 9 10 11]]\n",
      "[[ 1  2  3  4]\n",
      " [ 5  6  7  8]\n",
      " [ 9 10 11 12]]\n"
     ]
    }
   ],
   "source": [
    "# delete function removes a sub-array from the input array\n",
    "# first argument is the original array\n",
    "# second argument is the index to the sub-array to be removed\n",
    "# third argument is the axis among which the deletion happens (0: x axis \"row\" and 1: y axis \"column\")\n",
    "arr = np.array([[1,2,3,4], [5,6,7,8], [9,10,11,12]])\n",
    "print(arr)\n",
    "\n",
    "arr2 = np.delete(arr, 1, 0)\n",
    "print(arr2)\n",
    "\n",
    "arr3 = np.delete(arr, 3, 1)\n",
    "print(arr3)\n",
    "print(arr)"
   ]
  },
  {
   "cell_type": "code",
   "execution_count": 28,
   "metadata": {},
   "outputs": [
    {
     "name": "stdout",
     "output_type": "stream",
     "text": [
      "[[1, 2, 3], [4, 5, 6], [7, 8, 9]]\n",
      "Determinant: 0\n"
     ]
    }
   ],
   "source": [
    "def minor(arr, i, j):\n",
    "    return [row[:j] + row[j+1:] for index, row in enumerate(arr) if index != i]\n",
    "\n",
    "def det(arr):\n",
    "    size = len(arr)\n",
    "    \n",
    "    if size == 1:\n",
    "        return arr[0][0]  \n",
    "    elif size == 2:\n",
    "        return arr[0][0] * arr[1][1] - arr[0][1] * arr[1][0]  \n",
    "    \n",
    "    determinant = 0\n",
    "    for j in range(size):  \n",
    "        determinant += ((-1) ** j) * arr[0][j] * det(minor(arr, 0, j))\n",
    "    \n",
    "    return determinant\n",
    "a3 = [\n",
    "    [1, 2, 3],\n",
    "    [4, 5, 6],\n",
    "    [7, 8, 9]\n",
    "]\n",
    "\n",
    "print(a3)\n",
    "print(\"Determinant:\", det(a3))\n"
   ]
  },
  {
   "cell_type": "markdown",
   "metadata": {},
   "source": [
    "# Calculating the inverse using numpy.linalg"
   ]
  },
  {
   "cell_type": "code",
   "execution_count": 31,
   "metadata": {},
   "outputs": [
    {
     "name": "stdout",
     "output_type": "stream",
     "text": [
      "[[1 2]\n",
      " [3 4]]\n",
      "\n",
      "Inverse of the Matrix:\n",
      "[[-2.   1. ]\n",
      " [ 1.5 -0.5]]\n"
     ]
    }
   ],
   "source": [
    "# The inverse of 2 x 2 matrix\n",
    "a2 = np.array([[1,2],[3,4]])\n",
    "\n",
    "print(a2)\n",
    "## Code Here\n",
    "# Calculate the inverse\n",
    "a2_inverse = np.linalg.inv(a2)\n",
    "print(\"\\nInverse of the Matrix:\")\n",
    "print(a2_inverse)"
   ]
  },
  {
   "cell_type": "code",
   "execution_count": 33,
   "metadata": {},
   "outputs": [
    {
     "name": "stdout",
     "output_type": "stream",
     "text": [
      "[[1 2]\n",
      " [2 4]]\n",
      "\n",
      "Determinant: 0.0\n",
      "\n",
      "Matrix is singular (not invertible).\n"
     ]
    }
   ],
   "source": [
    "# The inverse of a singular matrix\n",
    "\n",
    "a3 = np.array([[1,2],[2,4]])\n",
    "\n",
    "print(a3)\n",
    "\n",
    "## Code Here\n",
    "# Check determinant before trying to invert\n",
    "Da3 = np.linalg.det(a3)\n",
    "print(\"\\nDeterminant:\", Da3)\n",
    "\n",
    "if Da3 == 0:\n",
    "    print(\"\\nMatrix is singular (not invertible).\")\n",
    "else:\n",
    "    a3_inverse = np.linalg.inv(a3)\n",
    "    print(\"\\nInverse of the Matrix:\")\n",
    "    print(a3_inverse)\n"
   ]
  },
  {
   "cell_type": "code",
   "execution_count": 35,
   "metadata": {},
   "outputs": [
    {
     "name": "stdout",
     "output_type": "stream",
     "text": [
      "\n",
      "Determinant: -306.0\n",
      "\n",
      "Inverse of the Matrix:\n",
      "[[ 0.17647059 -0.00326797 -0.02287582]\n",
      " [ 0.05882353 -0.13071895  0.08496732]\n",
      " [-0.11764706  0.1503268   0.05228758]]\n"
     ]
    }
   ],
   "source": [
    "# The inverse of 3 x 3 matrix\n",
    "\n",
    "A = np.array([[6, 1, 1],\n",
    "              [4, -2, 5],\n",
    "              [2, 8, 7]])\n",
    "  \n",
    "# Calculating the inverse of the matrix\n",
    "## Code Here\n",
    "det_A = np.linalg.det(A)\n",
    "print(\"\\nDeterminant:\", det_A)\n",
    "\n",
    "if det_A == 0:\n",
    "    print(\"\\nMatrix is singular (not invertible).\")\n",
    "else:\n",
    "    A_inverse = np.linalg.inv(A)\n",
    "    print(\"\\nInverse of the Matrix:\")\n",
    "    print(A_inverse)"
   ]
  },
  {
   "cell_type": "code",
   "execution_count": 39,
   "metadata": {
    "scrolled": true
   },
   "outputs": [
    {
     "name": "stdout",
     "output_type": "stream",
     "text": [
      "\n",
      "Inverses of the Matrices:\n",
      "[[[-2.    1.  ]\n",
      "  [ 1.5  -0.5 ]]\n",
      "\n",
      " [[-1.25  0.75]\n",
      "  [ 0.75 -0.25]]]\n"
     ]
    }
   ],
   "source": [
    "# Inverses of several matrices can\n",
    "# be computed at once\n",
    "\n",
    "A = np.array([[[1., 2.], \n",
    "               [3., 4.]],\n",
    "              [[1, 3], \n",
    "               [3, 5]]])\n",
    "  \n",
    "# Calculating the inverse of the matrix\n",
    "## Code Here\n",
    "try:\n",
    "    A_inverse = np.linalg.inv(A)\n",
    "    print(\"\\nInverses of the Matrices:\")\n",
    "    print(A_inverse)\n",
    "except np.linalg.LinAlgError:\n",
    "    print(\"\\nOne or more matrices are singular (not invertible).\")"
   ]
  },
  {
   "cell_type": "markdown",
   "metadata": {},
   "source": [
    "# Calculating the inverse of a 2x2 matrixwithout using numpy"
   ]
  },
  {
   "cell_type": "markdown",
   "metadata": {},
   "source": [
    "1. Code a function to calculate the determinant of 2x2 matrix\n",
    "2. Code a function that interchange the diagonal elements of a 2x2 matrix and inverse the sign of the off diagonal elements\n",
    "3. Code a function to compute the inverse of 2x2 matrix based on the two previous functions if it exists"
   ]
  },
  {
   "cell_type": "code",
   "execution_count": 45,
   "metadata": {},
   "outputs": [
    {
     "name": "stdout",
     "output_type": "stream",
     "text": [
      "[[-2.0, 1.0], [1.5, -0.5]]\n"
     ]
    }
   ],
   "source": [
    "#step -1- we already coded the det function that works for 2x2 and nxn size matrix\n",
    "def Det2(Mat):\n",
    "    return Mat[0][0] * Mat[1][1] - Mat[0][1] * Mat[1][0]\n",
    "\n",
    "#step -2-\n",
    "def interchangeMatrix(A):\n",
    "    return [[A[1][1], -A[0][1]], [-A[1][0], A[0][0]]]\n",
    "\n",
    "#step -3-\n",
    "def inverse2x2(A):\n",
    "    determinant = Det2(A) \n",
    "\n",
    "    if determinant == 0:\n",
    "        return \"Matrix is singular (not invertible).\"\n",
    "\n",
    "    adjugate = interchangeMatrix(A)\n",
    "\n",
    "    return [[adjugate[i][j] / determinant for j in range(2)] for i in range(2)]\n",
    "\n",
    "a2 = [[1, 2], [3, 4]]  \n",
    "print(inverse2x2(a2))"
   ]
  },
  {
   "cell_type": "markdown",
   "metadata": {},
   "source": [
    "# Calculating the inverse of a 3x3 matrixwithout using numpy"
   ]
  },
  {
   "cell_type": "markdown",
   "metadata": {},
   "source": [
    "# Use the adjoint matrix method\n",
    "\n",
    "Coding a Python code to inverse a 3x3 matrix (no numpy.linalg.inv allowed):\n",
    "1. Coding a function that checks if a 3x3 matrix is invertible\n",
    "2. Coding a function that generates the transpose of a 3x3 matrix\n",
    "3. Coding a function that generates the matrix of minors of a 3x3 matrix\n",
    "4. Coding a function that generates the matrix of cofactors of a 3x3 matrix\n",
    "5. Coding a function that generates the inverse of a 3x3 matrix if it exists\n"
   ]
  },
  {
   "cell_type": "code",
   "execution_count": 52,
   "metadata": {},
   "outputs": [
    {
     "name": "stdout",
     "output_type": "stream",
     "text": [
      "[[0.17647058823529413, -0.0032679738562091504, -0.02287581699346405], [0.058823529411764705, -0.13071895424836602, 0.08496732026143791], [-0.11764705882352941, 0.1503267973856209, 0.05228758169934641]]\n",
      "[[ 0.17647059 -0.00326797 -0.02287582]\n",
      " [ 0.05882353 -0.13071895  0.08496732]\n",
      " [-0.11764706  0.1503268   0.05228758]]\n"
     ]
    }
   ],
   "source": [
    "def det(arr):\n",
    "    size = len(arr)\n",
    "    \n",
    "    if size == 1:\n",
    "        return arr[0][0]  \n",
    "    elif size == 2:\n",
    "        return arr[0][0] * arr[1][1] - arr[0][1] * arr[1][0]  \n",
    "    \n",
    "    determinant = 0\n",
    "    for j in range(size):  \n",
    "        determinant += ((-1) ** j) * arr[0][j] * det(minor(arr, 0, j))\n",
    "    \n",
    "    return determinant\n",
    "\n",
    "# Step 1: Check if a matrix is invertible\n",
    "def invertible(A):\n",
    "    return det(A) != 0\n",
    "\n",
    "# Step 2: Transpose a matrix\n",
    "def transposeM(A):\n",
    "    return [[A[j][i] for j in range(len(A))] for i in range(len(A[0]))]\n",
    "\n",
    "# Step 3: Get the minor of a matrix\n",
    "def minor(arr, i, j):\n",
    "    return [row[:j] + row[j+1:] for index, row in enumerate(arr) if index != i]\n",
    "\n",
    "# Step 4: Calculate the matrix of cofactors\n",
    "def cofactors(A):\n",
    "    cofactor_matrix = []\n",
    "    for i in range(len(A)):\n",
    "        cofactor_row = []\n",
    "        for j in range(len(A)):\n",
    "            minor_matrix = minor(A, i, j)\n",
    "            minor_det = det(minor_matrix)  \n",
    "            cofactor_row.append(((-1) ** (i + j)) * minor_det)\n",
    "        cofactor_matrix.append(cofactor_row)\n",
    "    return cofactor_matrix\n",
    "\n",
    "# Step 5: Calculate the inverse of a 3x3 matrix\n",
    "def inverse3x3(A):\n",
    "    # Convert numpy array to list of lists if necessary\n",
    "    if isinstance(A, np.ndarray):\n",
    "        A = A.tolist()\n",
    "    \n",
    "    if not invertible(A):\n",
    "        return \"Matrix is not invertible\"\n",
    "    \n",
    "    determinant = det(A)  \n",
    "    \n",
    "    cofactor_matrix = cofactors(A)\n",
    "    \n",
    "    adjoint_matrix = transposeM(cofactor_matrix)\n",
    "    \n",
    "    inverse_matrix = [[adjoint_matrix[i][j] / determinant for j in range(len(adjoint_matrix[0]))] for i in range(len(adjoint_matrix))]\n",
    "    \n",
    "    return inverse_matrix\n",
    "\n",
    "B = np.array([[6, 1, 1],\n",
    "              [4, -2, 5],\n",
    "              [2, 8, 7]])\n",
    "\n",
    "print(inverse3x3(B))\n",
    "\n",
    "#[ 0.17647059 -0.00326797 -0.02287582]\n",
    "# [ 0.05882353 -0.13071895  0.08496732]\n",
    "# [-0.11764706  0.1503268   0.05228758]]\n",
    "#check\n",
    "print(np.linalg.inv(B))"
   ]
  },
  {
   "cell_type": "markdown",
   "metadata": {},
   "source": [
    "# Finding the rank of a matrix using numpy"
   ]
  },
  {
   "cell_type": "code",
   "execution_count": 56,
   "metadata": {},
   "outputs": [
    {
     "name": "stdout",
     "output_type": "stream",
     "text": [
      "Rank of the matrix:\n",
      "1\n"
     ]
    }
   ],
   "source": [
    "a3 = np.array([[1,2],[2,4]])\n",
    "\n",
    "## Code Here\n",
    "rank = np.linalg.matrix_rank(a3)\n",
    "\n",
    "print(\"Rank of the matrix:\")\n",
    "print(rank)"
   ]
  }
 ],
 "metadata": {
  "kernelspec": {
   "display_name": "Python 3 (ipykernel)",
   "language": "python",
   "name": "python3"
  },
  "language_info": {
   "codemirror_mode": {
    "name": "ipython",
    "version": 3
   },
   "file_extension": ".py",
   "mimetype": "text/x-python",
   "name": "python",
   "nbconvert_exporter": "python",
   "pygments_lexer": "ipython3",
   "version": "3.12.4"
  }
 },
 "nbformat": 4,
 "nbformat_minor": 4
}
