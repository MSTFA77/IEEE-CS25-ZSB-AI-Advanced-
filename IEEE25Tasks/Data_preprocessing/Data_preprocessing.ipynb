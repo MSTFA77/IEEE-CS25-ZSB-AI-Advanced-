{
 "cells": [
  {
   "cell_type": "markdown",
   "id": "53b78999",
   "metadata": {},
   "source": [
    "# Preprocessing Task"
   ]
  },
  {
   "cell_type": "markdown",
   "id": "48355bd5",
   "metadata": {},
   "source": [
    "- نفس عميق كوبايه شاي لان التاسك محتاجه مهندس بجد \n",
    "- هتلاقيني سايبلك الخرج بتاع كل سيل عشان لو عاوز تشيك علي حلك او تعرف الخرج بتاع كودك المفروض  شكله يبقي عامل ازاي \n",
    "- لو كودك صح ومطلع نتيجه مختلفه عن اللي انا مطلعها هراعي دا لا تقلق بس دي نادرا تحصل بس لو حصلت هيبقي خفيف وهراعي دا \n",
    "- التاسك دي هتنمي فيك مهاره السيرش يعني هتنميها ملهاش حل تاني \n",
    "### يلا بالتوفيق "
   ]
  },
  {
   "cell_type": "markdown",
   "id": "8d088395",
   "metadata": {},
   "source": [
    "# Importing\n"
   ]
  },
  {
   "cell_type": "code",
   "execution_count": 129,
   "id": "b31ca641",
   "metadata": {},
   "outputs": [],
   "source": [
    "# Import Needed Libraries\n",
    "import pandas as pd\n",
    "import numpy as np\n",
    "import matplotlib.pyplot as plt\n",
    "import seaborn as sns\n",
    "from sklearn.preprocessing import StandardScaler\n",
    "from sklearn.model_selection import train_test_split\n",
    "from sklearn.ensemble import RandomForestRegressor\n",
    "from sklearn.metrics import mean_squared_error, r2_score"
   ]
  },
  {
   "cell_type": "code",
   "execution_count": 130,
   "id": "f6c0aaee",
   "metadata": {},
   "outputs": [
    {
     "name": "stdout",
     "output_type": "stream",
     "text": [
      "   Id  MSSubClass MSZoning  LotFrontage  LotArea Street Alley LotShape  \\\n",
      "0   1          60       RL         65.0     8450   Pave   NaN      Reg   \n",
      "1   2          20       RL         80.0     9600   Pave   NaN      Reg   \n",
      "2   3          60       RL         68.0    11250   Pave   NaN      IR1   \n",
      "3   4          70       RL         60.0     9550   Pave   NaN      IR1   \n",
      "4   5          60       RL         84.0    14260   Pave   NaN      IR1   \n",
      "\n",
      "  LandContour Utilities  ... PoolArea PoolQC Fence MiscFeature MiscVal MoSold  \\\n",
      "0         Lvl    AllPub  ...        0    NaN   NaN         NaN       0      2   \n",
      "1         Lvl    AllPub  ...        0    NaN   NaN         NaN       0      5   \n",
      "2         Lvl    AllPub  ...        0    NaN   NaN         NaN       0      9   \n",
      "3         Lvl    AllPub  ...        0    NaN   NaN         NaN       0      2   \n",
      "4         Lvl    AllPub  ...        0    NaN   NaN         NaN       0     12   \n",
      "\n",
      "  YrSold  SaleType  SaleCondition  SalePrice  \n",
      "0   2008        WD         Normal     208500  \n",
      "1   2007        WD         Normal     181500  \n",
      "2   2008        WD         Normal     223500  \n",
      "3   2006        WD        Abnorml     140000  \n",
      "4   2008        WD         Normal     250000  \n",
      "\n",
      "[5 rows x 81 columns]\n"
     ]
    }
   ],
   "source": [
    "# Read data and show first 5 rows \n",
    "# Read data\n",
    "data = pd.read_csv('house_prices.csv') \n",
    "\n",
    "# Show first 5 rows\n",
    "print(data.head())"
   ]
  },
  {
   "cell_type": "code",
   "execution_count": 131,
   "id": "83d2c871",
   "metadata": {},
   "outputs": [
    {
     "name": "stdout",
     "output_type": "stream",
     "text": [
      "(1460, 81)\n"
     ]
    }
   ],
   "source": [
    "# Data Shape ?\n",
    "print(data.shape)"
   ]
  },
  {
   "cell_type": "code",
   "execution_count": 132,
   "id": "59839317",
   "metadata": {
    "scrolled": true
   },
   "outputs": [
    {
     "name": "stdout",
     "output_type": "stream",
     "text": [
      "<class 'pandas.core.frame.DataFrame'>\n",
      "RangeIndex: 1460 entries, 0 to 1459\n",
      "Data columns (total 81 columns):\n",
      " #   Column         Non-Null Count  Dtype  \n",
      "---  ------         --------------  -----  \n",
      " 0   Id             1460 non-null   int64  \n",
      " 1   MSSubClass     1460 non-null   int64  \n",
      " 2   MSZoning       1460 non-null   object \n",
      " 3   LotFrontage    1201 non-null   float64\n",
      " 4   LotArea        1460 non-null   int64  \n",
      " 5   Street         1460 non-null   object \n",
      " 6   Alley          91 non-null     object \n",
      " 7   LotShape       1460 non-null   object \n",
      " 8   LandContour    1460 non-null   object \n",
      " 9   Utilities      1460 non-null   object \n",
      " 10  LotConfig      1460 non-null   object \n",
      " 11  LandSlope      1460 non-null   object \n",
      " 12  Neighborhood   1460 non-null   object \n",
      " 13  Condition1     1460 non-null   object \n",
      " 14  Condition2     1460 non-null   object \n",
      " 15  BldgType       1460 non-null   object \n",
      " 16  HouseStyle     1460 non-null   object \n",
      " 17  OverallQual    1460 non-null   int64  \n",
      " 18  OverallCond    1460 non-null   int64  \n",
      " 19  YearBuilt      1460 non-null   int64  \n",
      " 20  YearRemodAdd   1460 non-null   int64  \n",
      " 21  RoofStyle      1460 non-null   object \n",
      " 22  RoofMatl       1460 non-null   object \n",
      " 23  Exterior1st    1460 non-null   object \n",
      " 24  Exterior2nd    1460 non-null   object \n",
      " 25  MasVnrType     588 non-null    object \n",
      " 26  MasVnrArea     1452 non-null   float64\n",
      " 27  ExterQual      1460 non-null   object \n",
      " 28  ExterCond      1460 non-null   object \n",
      " 29  Foundation     1460 non-null   object \n",
      " 30  BsmtQual       1423 non-null   object \n",
      " 31  BsmtCond       1423 non-null   object \n",
      " 32  BsmtExposure   1422 non-null   object \n",
      " 33  BsmtFinType1   1423 non-null   object \n",
      " 34  BsmtFinSF1     1460 non-null   int64  \n",
      " 35  BsmtFinType2   1422 non-null   object \n",
      " 36  BsmtFinSF2     1460 non-null   int64  \n",
      " 37  BsmtUnfSF      1460 non-null   int64  \n",
      " 38  TotalBsmtSF    1460 non-null   int64  \n",
      " 39  Heating        1460 non-null   object \n",
      " 40  HeatingQC      1460 non-null   object \n",
      " 41  CentralAir     1460 non-null   object \n",
      " 42  Electrical     1459 non-null   object \n",
      " 43  1stFlrSF       1460 non-null   int64  \n",
      " 44  2ndFlrSF       1460 non-null   int64  \n",
      " 45  LowQualFinSF   1460 non-null   int64  \n",
      " 46  GrLivArea      1460 non-null   int64  \n",
      " 47  BsmtFullBath   1460 non-null   int64  \n",
      " 48  BsmtHalfBath   1460 non-null   int64  \n",
      " 49  FullBath       1460 non-null   int64  \n",
      " 50  HalfBath       1460 non-null   int64  \n",
      " 51  BedroomAbvGr   1460 non-null   int64  \n",
      " 52  KitchenAbvGr   1460 non-null   int64  \n",
      " 53  KitchenQual    1460 non-null   object \n",
      " 54  TotRmsAbvGrd   1460 non-null   int64  \n",
      " 55  Functional     1460 non-null   object \n",
      " 56  Fireplaces     1460 non-null   int64  \n",
      " 57  FireplaceQu    770 non-null    object \n",
      " 58  GarageType     1379 non-null   object \n",
      " 59  GarageYrBlt    1379 non-null   float64\n",
      " 60  GarageFinish   1379 non-null   object \n",
      " 61  GarageCars     1460 non-null   int64  \n",
      " 62  GarageArea     1460 non-null   int64  \n",
      " 63  GarageQual     1379 non-null   object \n",
      " 64  GarageCond     1379 non-null   object \n",
      " 65  PavedDrive     1460 non-null   object \n",
      " 66  WoodDeckSF     1460 non-null   int64  \n",
      " 67  OpenPorchSF    1460 non-null   int64  \n",
      " 68  EnclosedPorch  1460 non-null   int64  \n",
      " 69  3SsnPorch      1460 non-null   int64  \n",
      " 70  ScreenPorch    1460 non-null   int64  \n",
      " 71  PoolArea       1460 non-null   int64  \n",
      " 72  PoolQC         7 non-null      object \n",
      " 73  Fence          281 non-null    object \n",
      " 74  MiscFeature    54 non-null     object \n",
      " 75  MiscVal        1460 non-null   int64  \n",
      " 76  MoSold         1460 non-null   int64  \n",
      " 77  YrSold         1460 non-null   int64  \n",
      " 78  SaleType       1460 non-null   object \n",
      " 79  SaleCondition  1460 non-null   object \n",
      " 80  SalePrice      1460 non-null   int64  \n",
      "dtypes: float64(3), int64(35), object(43)\n",
      "memory usage: 924.0+ KB\n",
      "None\n"
     ]
    }
   ],
   "source": [
    "# Data Info (Data Type of Each column) ?\n",
    "print(data.info())"
   ]
  },
  {
   "cell_type": "markdown",
   "id": "930bdc58",
   "metadata": {},
   "source": [
    "# Handle Null Values"
   ]
  },
  {
   "cell_type": "code",
   "execution_count": 134,
   "id": "b2366952",
   "metadata": {},
   "outputs": [
    {
     "name": "stdout",
     "output_type": "stream",
     "text": [
      "#Num_cols 38\n",
      "#Cat_cols 43\n"
     ]
    }
   ],
   "source": [
    "# what the number of Numurical and Categorical Columns ?\n",
    "numerical_cols = data.select_dtypes(include=['int64', 'float64']).columns\n",
    "categorical_cols = data.select_dtypes(include=['object']).columns\n",
    "num_numerical = len(numerical_cols)\n",
    "num_categorical = len(categorical_cols)\n",
    "print(f\"#Num_cols {num_numerical}\")\n",
    "print(f\"#Cat_cols {num_categorical}\")"
   ]
  },
  {
   "cell_type": "markdown",
   "id": "15103ad6",
   "metadata": {},
   "source": [
    "- <b> features to be removed ---> 80%  is nan \n",
    "- <b> features to filled --------> less than 80 % \n",
    "- <b> observation to be removed --> less than 3% "
   ]
  },
  {
   "cell_type": "code",
   "execution_count": 136,
   "id": "c51297d9",
   "metadata": {},
   "outputs": [
    {
     "name": "stdout",
     "output_type": "stream",
     "text": [
      "Features to be removed: Index(['Alley', 'PoolQC', 'Fence', 'MiscFeature'], dtype='object')\n",
      "Numerical features to be filled: Index(['LotFrontage', 'MasVnrArea', 'GarageYrBlt'], dtype='object')\n",
      "Categorical features to be filled: Index(['MasVnrType', 'BsmtQual', 'BsmtCond', 'BsmtExposure', 'BsmtFinType1',\n",
      "       'BsmtFinType2', 'Electrical', 'FireplaceQu', 'GarageType',\n",
      "       'GarageFinish', 'GarageQual', 'GarageCond'],\n",
      "      dtype='object')\n",
      "Observations to be removed: Index(['Id', 'MSSubClass', 'MSZoning', 'LotArea', 'Street', 'LotShape',\n",
      "       'LandContour', 'Utilities', 'LotConfig', 'LandSlope', 'Neighborhood',\n",
      "       'Condition1', 'Condition2', 'BldgType', 'HouseStyle', 'OverallQual',\n",
      "       'OverallCond', 'YearBuilt', 'YearRemodAdd', 'RoofStyle', 'RoofMatl',\n",
      "       'Exterior1st', 'Exterior2nd', 'MasVnrArea', 'ExterQual', 'ExterCond',\n",
      "       'Foundation', 'BsmtQual', 'BsmtCond', 'BsmtExposure', 'BsmtFinType1',\n",
      "       'BsmtFinSF1', 'BsmtFinType2', 'BsmtFinSF2', 'BsmtUnfSF', 'TotalBsmtSF',\n",
      "       'Heating', 'HeatingQC', 'CentralAir', 'Electrical', '1stFlrSF',\n",
      "       '2ndFlrSF', 'LowQualFinSF', 'GrLivArea', 'BsmtFullBath', 'BsmtHalfBath',\n",
      "       'FullBath', 'HalfBath', 'BedroomAbvGr', 'KitchenAbvGr', 'KitchenQual',\n",
      "       'TotRmsAbvGrd', 'Functional', 'Fireplaces', 'GarageCars', 'GarageArea',\n",
      "       'PavedDrive', 'WoodDeckSF', 'OpenPorchSF', 'EnclosedPorch', '3SsnPorch',\n",
      "       'ScreenPorch', 'PoolArea', 'MiscVal', 'MoSold', 'YrSold', 'SaleType',\n",
      "       'SaleCondition', 'SalePrice'],\n",
      "      dtype='object')\n"
     ]
    }
   ],
   "source": [
    "# Calculate the percentage of missing values in each column\n",
    "null_percentage = (data.isnull().sum() / len(data)) * 100\n",
    "\n",
    "# 1. Columns to be removed (80% or more missing values)\n",
    "f_to_be_removed = null_percentage[null_percentage >= 80].index\n",
    "data.drop(columns=f_to_be_removed, inplace=True)\n",
    "\n",
    "# 2. Columns to be filled (less than 80% missing values)\n",
    "f_to_be_filled = null_percentage[(null_percentage < 80) & (null_percentage > 0)].index\n",
    "\n",
    "# Fill numeric columns with the mean\n",
    "numerical_cols = data[f_to_be_filled].select_dtypes(include=['int64', 'float64']).columns\n",
    "data[numerical_cols] = data[numerical_cols].fillna(data[numerical_cols].mean())\n",
    "\n",
    "# Fill categorical columns with the most frequent value (mode)\n",
    "categorical_cols = data[f_to_be_filled].select_dtypes(include=['object']).columns\n",
    "data[categorical_cols] = data[categorical_cols].fillna(data[categorical_cols].mode().iloc[0])\n",
    "\n",
    "# 3. Rows to be removed (less than 3% missing values)\n",
    "obs_to_be_removed = null_percentage[null_percentage < 3].index\n",
    "data.dropna(subset=obs_to_be_removed, inplace=True)\n",
    "\n",
    "# Print the results\n",
    "print(f\"Features to be removed: {f_to_be_removed}\")\n",
    "print(f\"Numerical features to be filled: {numerical_cols}\")\n",
    "print(f\"Categorical features to be filled: {categorical_cols}\")\n",
    "print(f\"Observations to be removed: {obs_to_be_removed}\")"
   ]
  },
  {
   "cell_type": "markdown",
   "id": "a2d1ccfd",
   "metadata": {},
   "source": [
    "# Redundant Handling"
   ]
  },
  {
   "cell_type": "markdown",
   "id": "7df40492",
   "metadata": {},
   "source": [
    "### Automated function for both categorical and numircal data"
   ]
  },
  {
   "cell_type": "code",
   "execution_count": 139,
   "id": "1da8a3cb",
   "metadata": {
    "scrolled": true
   },
   "outputs": [
    {
     "name": "stdout",
     "output_type": "stream",
     "text": [
      "Id                       1\n",
      "MSSubClass              20\n",
      "MSZoning                RL\n",
      "LotFrontage      70.049958\n",
      "LotArea               7200\n",
      "                   ...    \n",
      "MoSold                   6\n",
      "YrSold                2009\n",
      "SaleType                WD\n",
      "SaleCondition       Normal\n",
      "SalePrice           140000\n",
      "Length: 77, dtype: object: Id                  1\n",
      "MSSubClass        536\n",
      "MSZoning         1151\n",
      "LotFrontage       259\n",
      "LotArea            25\n",
      "                 ... \n",
      "MoSold            253\n",
      "YrSold            338\n",
      "SaleType         1267\n",
      "SaleCondition    1198\n",
      "SalePrice          20\n",
      "Length: 77, dtype: int64\n"
     ]
    }
   ],
   "source": [
    "# write function to calculate the most redundant value in each column how many it repeated ?\n",
    "redundant_values = data.apply(lambda x: x.value_counts().idxmax())\n",
    "redundant_counts = data.apply(lambda x: x.value_counts().max())\n",
    "print(f\"{redundant_values}: {redundant_counts}\")\n"
   ]
  },
  {
   "cell_type": "code",
   "execution_count": 140,
   "id": "6e82743f",
   "metadata": {
    "scrolled": true
   },
   "outputs": [
    {
     "name": "stdout",
     "output_type": "stream",
     "text": [
      " Index(['Street', 'LandContour', 'Utilities', 'LandSlope', 'Condition1',\n",
      "       'Condition2', 'BldgType', 'RoofMatl', 'MasVnrType', 'ExterCond',\n",
      "       'BsmtCond', 'BsmtFinType2', 'BsmtFinSF2', 'Heating', 'CentralAir',\n",
      "       'Electrical', 'LowQualFinSF', 'BsmtHalfBath', 'KitchenAbvGr',\n",
      "       'Functional', 'GarageQual', 'GarageCond', 'PavedDrive', 'EnclosedPorch',\n",
      "       '3SsnPorch', 'ScreenPorch', 'PoolArea', 'MiscVal', 'SaleType',\n",
      "       'SaleCondition'],\n",
      "      dtype='object')\n"
     ]
    }
   ],
   "source": [
    "# if it repeated more than or equal 80% from data rows count remove the feature \n",
    "f_to_be_removed = redundant_counts[redundant_counts >= 0.8 * len(data)].index\n",
    "data.drop(columns=f_to_be_removed, inplace=True)\n",
    "\n",
    "print(f\" {f_to_be_removed}\")\n"
   ]
  },
  {
   "cell_type": "markdown",
   "id": "3e781327",
   "metadata": {},
   "source": [
    "# Handling correlation between features"
   ]
  },
  {
   "cell_type": "code",
   "execution_count": 142,
   "id": "3b412d30",
   "metadata": {
    "scrolled": true
   },
   "outputs": [
    {
     "name": "stdout",
     "output_type": "stream",
     "text": [
      "Columns to be dropped: set()\n"
     ]
    }
   ],
   "source": [
    "# Calculate the correlation matrix (note the correlation matrix is only for numerical features)\n",
    "corr_matrix = data[numerical_cols].corr()\n",
    "\n",
    "# Find highly correlated features (corr > 0.7)\n",
    "high_corr = np.where((corr_matrix > 0.7) & (corr_matrix < 1))\n",
    "\n",
    "# Drop one of the highly correlated features\n",
    "columns_to_drop = set()\n",
    "for i, j in zip(*high_corr):\n",
    "    if i < j:\n",
    "        columns_to_drop.add(corr_matrix.columns[j])\n",
    "\n",
    "# Drop the highly correlated columns from the dataset\n",
    "data.drop(columns=columns_to_drop, inplace=True)\n",
    "\n",
    "print(f\"Columns to be dropped: {columns_to_drop}\")"
   ]
  },
  {
   "cell_type": "markdown",
   "id": "e0bd74b3",
   "metadata": {},
   "source": [
    "#### If we have 2 highly correlated features (corr > 0.7), we drop one of them (the variable which is less correlated to the response variable (Output column) )"
   ]
  },
  {
   "cell_type": "code",
   "execution_count": null,
   "id": "6570fc8e",
   "metadata": {
    "scrolled": true
   },
   "outputs": [],
   "source": []
  },
  {
   "cell_type": "markdown",
   "id": "0e0e3afb",
   "metadata": {},
   "source": [
    "# Handling Outliers \n",
    "- lower band = q1 - (1.5*IQR)\n",
    "- Upper band = q3 + (1.5*IQR)"
   ]
  },
  {
   "cell_type": "code",
   "execution_count": 145,
   "id": "6fb65893",
   "metadata": {},
   "outputs": [],
   "source": [
    "# Write function to remove Outliers that above Upper band or below lower band for each column "
   ]
  },
  {
   "attachments": {
    "image.png": {
     "image/png": "[encoded data removed]"
    }
   },
   "cell_type": "markdown",
   "id": "1ac8dbb3",
   "metadata": {},
   "source": [
    "# Skewness Handling\n",
    "![image.png](attachment:image.png)\n"
   ]
  },
  {
   "cell_type": "code",
   "execution_count": 147,
   "id": "65602da3",
   "metadata": {},
   "outputs": [
    {
     "ename": "IndentationError",
     "evalue": "unexpected indent (781523665.py, line 3)",
     "output_type": "error",
     "traceback": [
      "\u001b[1;36m  Cell \u001b[1;32mIn[147], line 3\u001b[1;36m\u001b[0m\n\u001b[1;33m    skewness = data[numerical_cols].skew()\u001b[0m\n\u001b[1;37m    ^\u001b[0m\n\u001b[1;31mIndentationError\u001b[0m\u001b[1;31m:\u001b[0m unexpected indent\n"
     ]
    }
   ],
   "source": [
    "# write function to calc the skewness of each feature\n",
    "#Note  N = train_data.shape[0]  (rows count)\n",
    "  skewness = data[numerical_cols].skew()\n",
    "skewness "
   ]
  },
  {
   "cell_type": "markdown",
   "id": "82143e95",
   "metadata": {},
   "source": [
    "# Log Transformation\n",
    "> X = log(1 + | X | )     \n",
    "this is the equation "
   ]
  },
  {
   "cell_type": "code",
   "execution_count": null,
   "id": "2501d3f3",
   "metadata": {},
   "outputs": [],
   "source": [
    "# Features that have absolute skewness > 1 do for it Log tranformation \n",
    "for col in skewness[abs(skewness) > 1].index:\n",
    "    data[col] = np.log1p(data[col])\n",
    "    print(f\"Feature {col} is log_Transformed\")"
   ]
  },
  {
   "cell_type": "markdown",
   "id": "4ab221c7",
   "metadata": {},
   "source": [
    "# Transform categorical features "
   ]
  },
  {
   "cell_type": "code",
   "execution_count": null,
   "id": "2e24d041",
   "metadata": {},
   "outputs": [],
   "source": [
    "# cat_cols ordinal or nominal?\n",
    "ordinal_cats = ['BsmtQual', 'LotShape', 'HeatingQC', 'BsmtFinType1',  'ExterQual', \n",
    "                 'KitchenQual', 'BsmtExposure', 'GarageFinish']\n",
    "nominal_cats = ['HouseStyle', 'LotConfig', 'RoofStyle', 'GarageType', 'Exterior1st', \n",
    "                'Foundation', 'MSZoning', 'Exterior2nd', 'Neighborhood','FireplaceQu']"
   ]
  },
  {
   "cell_type": "code",
   "execution_count": null,
   "id": "873328e2",
   "metadata": {},
   "outputs": [],
   "source": [
    "from sklearn.preprocessing import LabelEncoder\n",
    "from sklearn.preprocessing import OneHotEncoder\n",
    "\n",
    "# Write code to transform each ordinal and nominal columns \n",
    "# سيرشك الجميل بقي وشوف كل واحد بيطلع ايه وازاي هتلم الداتا بتاعتك معلش هتعبك معانا يا جميل "
   ]
  },
  {
   "cell_type": "markdown",
   "id": "37f2ab8f",
   "metadata": {},
   "source": [
    "# Transform Numerical features \n",
    "> I want you apply only Min-Max Scaling for all numerical columns"
   ]
  },
  {
   "cell_type": "code",
   "execution_count": 150,
   "id": "eacb75b5",
   "metadata": {},
   "outputs": [],
   "source": [
    "from sklearn.preprocessing import MinMaxScaler\n",
    "\n",
    "# write code here \n",
    "scaler = MinMaxScaler()\n",
    "data[numerical_cols] = scaler.fit_transform(data[numerical_cols])\n"
   ]
  },
  {
   "cell_type": "code",
   "execution_count": 152,
   "id": "9b91f0da",
   "metadata": {},
   "outputs": [
    {
     "name": "stdout",
     "output_type": "stream",
     "text": [
      "   Id  MSSubClass MSZoning  LotFrontage  LotArea LotShape LotConfig  \\\n",
      "0   1          60       RL     0.150685     8450      Reg    Inside   \n",
      "1   2          20       RL     0.202055     9600      Reg       FR2   \n",
      "2   3          60       RL     0.160959    11250      IR1    Inside   \n",
      "3   4          70       RL     0.133562     9550      IR1    Corner   \n",
      "4   5          60       RL     0.215753    14260      IR1       FR2   \n",
      "\n",
      "  Neighborhood HouseStyle  OverallQual  ...  GarageType  GarageYrBlt  \\\n",
      "0      CollgCr     2Story            7  ...      Attchd     0.936364   \n",
      "1      Veenker     1Story            6  ...      Attchd     0.690909   \n",
      "2      CollgCr     2Story            7  ...      Attchd     0.918182   \n",
      "3      Crawfor     2Story            7  ...      Detchd     0.890909   \n",
      "4      NoRidge     2Story            8  ...      Attchd     0.909091   \n",
      "\n",
      "   GarageFinish GarageCars GarageArea WoodDeckSF  OpenPorchSF MoSold YrSold  \\\n",
      "0           RFn          2        548          0           61      2   2008   \n",
      "1           RFn          2        460        298            0      5   2007   \n",
      "2           RFn          2        608          0           42      9   2008   \n",
      "3           Unf          3        642          0           35      2   2006   \n",
      "4           RFn          3        836        192           84     12   2008   \n",
      "\n",
      "  SalePrice  \n",
      "0    208500  \n",
      "1    181500  \n",
      "2    223500  \n",
      "3    140000  \n",
      "4    250000  \n",
      "\n",
      "[5 rows x 47 columns]\n"
     ]
    },
    {
     "data": {
      "text/html": [
       "<div>\n",
       "<style scoped>\n",
       "    .dataframe tbody tr th:only-of-type {\n",
       "        vertical-align: middle;\n",
       "    }\n",
       "\n",
       "    .dataframe tbody tr th {\n",
       "        vertical-align: top;\n",
       "    }\n",
       "\n",
       "    .dataframe thead th {\n",
       "        text-align: right;\n",
       "    }\n",
       "</style>\n",
       "<table border=\"1\" class=\"dataframe\">\n",
       "  <thead>\n",
       "    <tr style=\"text-align: right;\">\n",
       "      <th></th>\n",
       "      <th>Id</th>\n",
       "      <th>MSSubClass</th>\n",
       "      <th>MSZoning</th>\n",
       "      <th>LotFrontage</th>\n",
       "      <th>LotArea</th>\n",
       "      <th>LotShape</th>\n",
       "      <th>LotConfig</th>\n",
       "      <th>Neighborhood</th>\n",
       "      <th>HouseStyle</th>\n",
       "      <th>OverallQual</th>\n",
       "      <th>...</th>\n",
       "      <th>GarageType</th>\n",
       "      <th>GarageYrBlt</th>\n",
       "      <th>GarageFinish</th>\n",
       "      <th>GarageCars</th>\n",
       "      <th>GarageArea</th>\n",
       "      <th>WoodDeckSF</th>\n",
       "      <th>OpenPorchSF</th>\n",
       "      <th>MoSold</th>\n",
       "      <th>YrSold</th>\n",
       "      <th>SalePrice</th>\n",
       "    </tr>\n",
       "  </thead>\n",
       "  <tbody>\n",
       "    <tr>\n",
       "      <th>0</th>\n",
       "      <td>1</td>\n",
       "      <td>60</td>\n",
       "      <td>RL</td>\n",
       "      <td>0.150685</td>\n",
       "      <td>8450</td>\n",
       "      <td>Reg</td>\n",
       "      <td>Inside</td>\n",
       "      <td>CollgCr</td>\n",
       "      <td>2Story</td>\n",
       "      <td>7</td>\n",
       "      <td>...</td>\n",
       "      <td>Attchd</td>\n",
       "      <td>0.936364</td>\n",
       "      <td>RFn</td>\n",
       "      <td>2</td>\n",
       "      <td>548</td>\n",
       "      <td>0</td>\n",
       "      <td>61</td>\n",
       "      <td>2</td>\n",
       "      <td>2008</td>\n",
       "      <td>208500</td>\n",
       "    </tr>\n",
       "    <tr>\n",
       "      <th>1</th>\n",
       "      <td>2</td>\n",
       "      <td>20</td>\n",
       "      <td>RL</td>\n",
       "      <td>0.202055</td>\n",
       "      <td>9600</td>\n",
       "      <td>Reg</td>\n",
       "      <td>FR2</td>\n",
       "      <td>Veenker</td>\n",
       "      <td>1Story</td>\n",
       "      <td>6</td>\n",
       "      <td>...</td>\n",
       "      <td>Attchd</td>\n",
       "      <td>0.690909</td>\n",
       "      <td>RFn</td>\n",
       "      <td>2</td>\n",
       "      <td>460</td>\n",
       "      <td>298</td>\n",
       "      <td>0</td>\n",
       "      <td>5</td>\n",
       "      <td>2007</td>\n",
       "      <td>181500</td>\n",
       "    </tr>\n",
       "    <tr>\n",
       "      <th>2</th>\n",
       "      <td>3</td>\n",
       "      <td>60</td>\n",
       "      <td>RL</td>\n",
       "      <td>0.160959</td>\n",
       "      <td>11250</td>\n",
       "      <td>IR1</td>\n",
       "      <td>Inside</td>\n",
       "      <td>CollgCr</td>\n",
       "      <td>2Story</td>\n",
       "      <td>7</td>\n",
       "      <td>...</td>\n",
       "      <td>Attchd</td>\n",
       "      <td>0.918182</td>\n",
       "      <td>RFn</td>\n",
       "      <td>2</td>\n",
       "      <td>608</td>\n",
       "      <td>0</td>\n",
       "      <td>42</td>\n",
       "      <td>9</td>\n",
       "      <td>2008</td>\n",
       "      <td>223500</td>\n",
       "    </tr>\n",
       "    <tr>\n",
       "      <th>3</th>\n",
       "      <td>4</td>\n",
       "      <td>70</td>\n",
       "      <td>RL</td>\n",
       "      <td>0.133562</td>\n",
       "      <td>9550</td>\n",
       "      <td>IR1</td>\n",
       "      <td>Corner</td>\n",
       "      <td>Crawfor</td>\n",
       "      <td>2Story</td>\n",
       "      <td>7</td>\n",
       "      <td>...</td>\n",
       "      <td>Detchd</td>\n",
       "      <td>0.890909</td>\n",
       "      <td>Unf</td>\n",
       "      <td>3</td>\n",
       "      <td>642</td>\n",
       "      <td>0</td>\n",
       "      <td>35</td>\n",
       "      <td>2</td>\n",
       "      <td>2006</td>\n",
       "      <td>140000</td>\n",
       "    </tr>\n",
       "    <tr>\n",
       "      <th>4</th>\n",
       "      <td>5</td>\n",
       "      <td>60</td>\n",
       "      <td>RL</td>\n",
       "      <td>0.215753</td>\n",
       "      <td>14260</td>\n",
       "      <td>IR1</td>\n",
       "      <td>FR2</td>\n",
       "      <td>NoRidge</td>\n",
       "      <td>2Story</td>\n",
       "      <td>8</td>\n",
       "      <td>...</td>\n",
       "      <td>Attchd</td>\n",
       "      <td>0.909091</td>\n",
       "      <td>RFn</td>\n",
       "      <td>3</td>\n",
       "      <td>836</td>\n",
       "      <td>192</td>\n",
       "      <td>84</td>\n",
       "      <td>12</td>\n",
       "      <td>2008</td>\n",
       "      <td>250000</td>\n",
       "    </tr>\n",
       "  </tbody>\n",
       "</table>\n",
       "<p>5 rows × 47 columns</p>\n",
       "</div>"
      ],
      "text/plain": [
       "   Id  MSSubClass MSZoning  LotFrontage  LotArea LotShape LotConfig  \\\n",
       "0   1          60       RL     0.150685     8450      Reg    Inside   \n",
       "1   2          20       RL     0.202055     9600      Reg       FR2   \n",
       "2   3          60       RL     0.160959    11250      IR1    Inside   \n",
       "3   4          70       RL     0.133562     9550      IR1    Corner   \n",
       "4   5          60       RL     0.215753    14260      IR1       FR2   \n",
       "\n",
       "  Neighborhood HouseStyle  OverallQual  ...  GarageType  GarageYrBlt  \\\n",
       "0      CollgCr     2Story            7  ...      Attchd     0.936364   \n",
       "1      Veenker     1Story            6  ...      Attchd     0.690909   \n",
       "2      CollgCr     2Story            7  ...      Attchd     0.918182   \n",
       "3      Crawfor     2Story            7  ...      Detchd     0.890909   \n",
       "4      NoRidge     2Story            8  ...      Attchd     0.909091   \n",
       "\n",
       "   GarageFinish GarageCars GarageArea WoodDeckSF  OpenPorchSF MoSold YrSold  \\\n",
       "0           RFn          2        548          0           61      2   2008   \n",
       "1           RFn          2        460        298            0      5   2007   \n",
       "2           RFn          2        608          0           42      9   2008   \n",
       "3           Unf          3        642          0           35      2   2006   \n",
       "4           RFn          3        836        192           84     12   2008   \n",
       "\n",
       "  SalePrice  \n",
       "0    208500  \n",
       "1    181500  \n",
       "2    223500  \n",
       "3    140000  \n",
       "4    250000  \n",
       "\n",
       "[5 rows x 47 columns]"
      ]
     },
     "execution_count": 152,
     "metadata": {},
     "output_type": "execute_result"
    }
   ],
   "source": [
    "# print Your final data frame here \n",
    "print(data.head())\n",
    "# data.head()\n",
    "data.head()"
   ]
  },
  {
   "cell_type": "markdown",
   "id": "2a11dfe1",
   "metadata": {},
   "source": [
    "## End \n",
    "## لو وصلت لهنا بالسلامه تبقي تنين وتاخد 5 بونص و5 كمان لو كان حلك كله تمام "
   ]
  }
 ],
 "metadata": {
  "kernelspec": {
   "display_name": "Python 3 (ipykernel)",
   "language": "python",
   "name": "python3"
  },
  "language_info": {
   "codemirror_mode": {
    "name": "ipython",
    "version": 3
   },
   "file_extension": ".py",
   "mimetype": "text/x-python",
   "name": "python",
   "nbconvert_exporter": "python",
   "pygments_lexer": "ipython3",
   "version": "3.12.4"
  }
 },
 "nbformat": 4,
 "nbformat_minor": 5
}
